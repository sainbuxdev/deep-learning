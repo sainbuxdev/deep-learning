{
  "nbformat": 4,
  "nbformat_minor": 0,
  "metadata": {
    "colab": {
      "provenance": []
    },
    "kernelspec": {
      "name": "python3",
      "display_name": "Python 3"
    },
    "language_info": {
      "name": "python"
    }
  },
  "cells": [
    {
      "cell_type": "code",
      "execution_count": 3,
      "metadata": {
        "id": "MKtnYbM2Uflm"
      },
      "outputs": [],
      "source": [
        "import pandas as pd\n",
        "data = pd.read_csv(\"wdbc.data\" , header = None)\n",
        "\n",
        "y = data[1]\n",
        "x = data.drop(columns=[1])"
      ]
    },
    {
      "cell_type": "code",
      "source": [
        "from sklearn.preprocessing import LabelEncoder\n",
        "from sklearn.preprocessing import StandardScaler\n",
        "sc = StandardScaler()\n",
        "x = sc.fit_transform(x)\n",
        "encoder = LabelEncoder()\n",
        "y = encoder.fit_transform(y)"
      ],
      "metadata": {
        "id": "ptvS2wbvUvNT"
      },
      "execution_count": 7,
      "outputs": []
    },
    {
      "cell_type": "code",
      "source": [
        "from sklearn.model_selection import train_test_split\n",
        "x_train, x_test, y_train, y_test = train_test_split(x ,y , test_size = 0.3, random_state = 0)"
      ],
      "metadata": {
        "id": "N1SEmV4oXL_I"
      },
      "execution_count": 8,
      "outputs": []
    },
    {
      "cell_type": "code",
      "source": [
        "from sklearn.model_selection import cross_val_score\n",
        "import keras\n",
        "from keras.layers import Dense\n",
        "from keras.models import Sequential\n",
        "from keras.wrappers.scikit_learn import KerasClassifier\n",
        "\n",
        "def built_Classifier():\n",
        "    classifier = Sequential()\n",
        "    classifier.add(Dense(16, activation='relu', input_dim=31))\n",
        "    classifier.add(Dense(16, activation='relu'))\n",
        "    classifier.add(Dense(1, activation='sigmoid'))\n",
        "    classifier.compile(optimizer='Adam', loss='binary_crossentropy', metrics=['accuracy'])\n",
        "    return classifier\n",
        "\n",
        "model = KerasClassifier(build_fn = built_Classifier, batch_size = 100, epochs = 100)\n",
        "accurices = cross_val_score(estimator= model, X=x_train, y=y_train, cv = 10, n_jobs = -1)"
      ],
      "metadata": {
        "colab": {
          "base_uri": "https://localhost:8080/"
        },
        "id": "-qw9FBPKVLUP",
        "outputId": "c751c4bd-8451-451b-b9ea-322e1e3aaae5"
      },
      "execution_count": 14,
      "outputs": [
        {
          "output_type": "stream",
          "name": "stderr",
          "text": [
            "<ipython-input-14-fdc16a2d8d58>:15: DeprecationWarning: KerasClassifier is deprecated, use Sci-Keras (https://github.com/adriangb/scikeras) instead. See https://www.adriangb.com/scikeras/stable/migration.html for help migrating.\n",
            "  model = KerasClassifier(build_fn = built_Classifier, batch_size = 100, epochs = 100)\n"
          ]
        }
      ]
    },
    {
      "cell_type": "code",
      "source": [
        "accurices.std()"
      ],
      "metadata": {
        "colab": {
          "base_uri": "https://localhost:8080/"
        },
        "id": "KIBO5xT1XrQW",
        "outputId": "a67b732b-d793-4723-d91f-b24f54e17d3e"
      },
      "execution_count": 20,
      "outputs": [
        {
          "output_type": "execute_result",
          "data": {
            "text/plain": [
              "0.023744264432857678"
            ]
          },
          "metadata": {},
          "execution_count": 20
        }
      ]
    },
    {
      "cell_type": "code",
      "source": [],
      "metadata": {
        "id": "1f7CCCmLYkVj"
      },
      "execution_count": null,
      "outputs": []
    }
  ]
}