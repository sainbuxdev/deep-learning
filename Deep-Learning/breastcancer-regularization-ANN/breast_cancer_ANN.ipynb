{
  "nbformat": 4,
  "nbformat_minor": 0,
  "metadata": {
    "colab": {
      "provenance": []
    },
    "kernelspec": {
      "name": "python3",
      "display_name": "Python 3"
    },
    "language_info": {
      "name": "python"
    }
  },
  "cells": [
    {
      "cell_type": "code",
      "execution_count": 1,
      "metadata": {
        "id": "NN72bw2dVADz"
      },
      "outputs": [],
      "source": [
        "#preprocessing data\n",
        "from sklearn.preprocessing import MinMaxScaler\n",
        "import pandas as pd"
      ]
    },
    {
      "cell_type": "code",
      "source": [
        "data = pd.read_csv(\"wdbc.data\", delimiter=\",\", header=None)\n",
        "\n",
        "y = data[1]\n",
        "x = data.drop(columns=[1])\n"
      ],
      "metadata": {
        "id": "bSh4pQZaVCKC"
      },
      "execution_count": 2,
      "outputs": []
    },
    {
      "cell_type": "code",
      "source": [
        "from sklearn.preprocessing import LabelEncoder\n",
        "labelencoder = LabelEncoder()\n",
        "y = labelencoder.fit_transform(y)\n"
      ],
      "metadata": {
        "id": "QQYz4lW5VGqM"
      },
      "execution_count": 3,
      "outputs": []
    },
    {
      "cell_type": "code",
      "source": [
        "from sklearn.model_selection import train_test_split\n",
        "x_train, x_test, y_train, y_test = train_test_split(x, y, test_size= 0.7 , random_state = 0)\n"
      ],
      "metadata": {
        "id": "SanZAzaFVInS"
      },
      "execution_count": 4,
      "outputs": []
    },
    {
      "cell_type": "code",
      "source": [
        "from sklearn.preprocessing import StandardScaler\n",
        "sc = StandardScaler()\n",
        "x_train = sc.fit_transform(x_train)\n",
        "x_test = sc.fit_transform(x_test)\n"
      ],
      "metadata": {
        "id": "7B0IvsvzVKm5"
      },
      "execution_count": 5,
      "outputs": []
    },
    {
      "cell_type": "code",
      "source": [
        "import keras\n",
        "from keras.models import Sequential\n",
        "from keras.layers import Dense\n",
        "from keras.layers import Dropout"
      ],
      "metadata": {
        "id": "2dzSlE5nVMdw"
      },
      "execution_count": 6,
      "outputs": []
    },
    {
      "cell_type": "code",
      "source": [
        "classifier = Sequential()\n",
        "#regularization(Dropout Method)\n",
        "classifier.add(Dense(16, activation='relu', input_dim=31))\n",
        "classifier.add(Dropout(rate=0.1))\n",
        "\n",
        "classifier.add(Dense(16, activation='relu'))\n",
        "classifier.add(Dropout(rate=0.1))\n",
        "\n",
        "classifier.add(Dense(1, activation='sigmoid'))\n",
        "classifier.compile(optimizer='Adam', loss='binary_crossentropy', metrics=['accuracy'])"
      ],
      "metadata": {
        "id": "d1HFAEzdVN_D"
      },
      "execution_count": 8,
      "outputs": []
    },
    {
      "cell_type": "code",
      "source": [
        "output = classifier.fit(x_train, y_train , batch_size=32, epochs=5)"
      ],
      "metadata": {
        "colab": {
          "base_uri": "https://localhost:8080/"
        },
        "id": "VVEzt-JXVRPg",
        "outputId": "e99c75b9-df72-4ff8-eea2-3f027d2ea677"
      },
      "execution_count": 9,
      "outputs": [
        {
          "output_type": "stream",
          "name": "stdout",
          "text": [
            "Epoch 1/5\n",
            "6/6 [==============================] - 1s 4ms/step - loss: 0.7264 - accuracy: 0.5412\n",
            "Epoch 2/5\n",
            "6/6 [==============================] - 0s 3ms/step - loss: 0.6531 - accuracy: 0.6412\n",
            "Epoch 3/5\n",
            "6/6 [==============================] - 0s 3ms/step - loss: 0.6042 - accuracy: 0.6941\n",
            "Epoch 4/5\n",
            "6/6 [==============================] - 0s 3ms/step - loss: 0.5829 - accuracy: 0.7294\n",
            "Epoch 5/5\n",
            "6/6 [==============================] - 0s 2ms/step - loss: 0.5447 - accuracy: 0.7941\n"
          ]
        }
      ]
    },
    {
      "cell_type": "code",
      "source": [
        "y_pred = classifier.predict(x_test)\n",
        "y_pred = (y_pred > 0.5)"
      ],
      "metadata": {
        "colab": {
          "base_uri": "https://localhost:8080/"
        },
        "id": "srQNJlKkVS-V",
        "outputId": "a5fe933e-7e55-4b93-abc4-6145db2c5c5b"
      },
      "execution_count": 10,
      "outputs": [
        {
          "output_type": "stream",
          "name": "stdout",
          "text": [
            "13/13 [==============================] - 0s 1ms/step\n"
          ]
        }
      ]
    },
    {
      "cell_type": "code",
      "source": [
        "from sklearn.metrics import confusion_matrix, accuracy_score\n",
        "cm = confusion_matrix(y_test,y_pred)\n",
        "accuracy_score(y_test, y_pred)\n"
      ],
      "metadata": {
        "colab": {
          "base_uri": "https://localhost:8080/"
        },
        "id": "5hs3ArDPVU0B",
        "outputId": "76e9bb59-1293-404e-b8f0-bedda64a60f5"
      },
      "execution_count": 11,
      "outputs": [
        {
          "output_type": "execute_result",
          "data": {
            "text/plain": [
              "0.8446115288220551"
            ]
          },
          "metadata": {},
          "execution_count": 11
        }
      ]
    },
    {
      "cell_type": "code",
      "source": [
        "import matplotlib.pyplot as plt\n",
        "\n",
        "plt.plot(output.history['accuracy'])\n"
      ],
      "metadata": {
        "colab": {
          "base_uri": "https://localhost:8080/",
          "height": 447
        },
        "id": "1jZG1lgSVWfQ",
        "outputId": "756b7c7f-b5b3-4c3c-d52c-2f811552ac9d"
      },
      "execution_count": 12,
      "outputs": [
        {
          "output_type": "execute_result",
          "data": {
            "text/plain": [
              "[<matplotlib.lines.Line2D at 0x7d46d943ba30>]"
            ]
          },
          "metadata": {},
          "execution_count": 12
        },
        {
          "output_type": "display_data",
          "data": {
            "text/plain": [
              "<Figure size 640x480 with 1 Axes>"
            ],
            "image/png": "[encoded data removed]"
          },
          "metadata": {}
        }
      ]
    },
    {
      "cell_type": "code",
      "source": [],
      "metadata": {
        "id": "jhkFX03tVYYM"
      },
      "execution_count": null,
      "outputs": []
    }
  ]
}