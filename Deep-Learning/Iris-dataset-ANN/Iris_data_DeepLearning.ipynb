{
  "nbformat": 4,
  "nbformat_minor": 0,
  "metadata": {
    "colab": {
      "provenance": []
    },
    "kernelspec": {
      "name": "python3",
      "display_name": "Python 3"
    },
    "language_info": {
      "name": "python"
    }
  },
  "cells": [
    {
      "cell_type": "code",
      "execution_count": 116,
      "metadata": {
        "id": "1IfL2T-oB_5B"
      },
      "outputs": [],
      "source": [
        "import pandas as pd\n",
        "data = pd.read_csv(\"iris.data\", delimiter=',', header = None)"
      ]
    },
    {
      "cell_type": "code",
      "source": [
        "y = data[4]\n",
        "x = data.drop(columns=[4])"
      ],
      "metadata": {
        "id": "aDcYIWDeDPzs"
      },
      "execution_count": 118,
      "outputs": []
    },
    {
      "cell_type": "code",
      "source": [
        "from sklearn.preprocessing import LabelEncoder\n",
        "labelencoder = LabelEncoder()\n",
        "y1 = labelencoder.fit_transform(y)\n",
        "Y = pd.get_dummies(y1).values"
      ],
      "metadata": {
        "id": "jlPy0jglETmQ"
      },
      "execution_count": 119,
      "outputs": []
    },
    {
      "cell_type": "code",
      "source": [
        "from sklearn.model_selection import train_test_split\n",
        "x_train, x_test, y_train, y_test = train_test_split(x , Y , test_size = 0.2 , random_state = 0)"
      ],
      "metadata": {
        "id": "hMHWYD1dFKdV"
      },
      "execution_count": 120,
      "outputs": []
    },
    {
      "cell_type": "code",
      "source": [
        "from sklearn.preprocessing import StandardScaler\n",
        "sc = StandardScaler()\n",
        "x_train = sc.fit_transform(x_train)\n",
        "x_test = sc.transform(x_test)\n"
      ],
      "metadata": {
        "id": "aW0iBFrsN_kb"
      },
      "execution_count": 121,
      "outputs": []
    },
    {
      "cell_type": "code",
      "source": [
        "import keras\n",
        "from keras.models import Sequential\n",
        "from keras.layers import Dense"
      ],
      "metadata": {
        "id": "HflNKpwSKuO1"
      },
      "execution_count": 122,
      "outputs": []
    },
    {
      "cell_type": "code",
      "source": [
        "model = Sequential()\n",
        "\n",
        "model.add(Dense(8, input_shape = (4,), activation='relu'))\n",
        "model.add(Dense(8, activation='relu' ))\n",
        "model.add(Dense(3,  activation='softmax'))\n",
        "model.compile(optimizer='rmsprop', loss='categorical_crossentropy', metrics=['accuracy'])"
      ],
      "metadata": {
        "id": "f_bkaF8qK2Cw"
      },
      "execution_count": 167,
      "outputs": []
    },
    {
      "cell_type": "code",
      "source": [
        "output = model.fit(x_train, y_train, batch_size = 5, epochs=20)"
      ],
      "metadata": {
        "colab": {
          "base_uri": "https://localhost:8080/"
        },
        "id": "MX6KL_54Lnnq",
        "outputId": "f7a49bab-a5df-4b0f-a5dd-0e92c936213e"
      },
      "execution_count": 168,
      "outputs": [
        {
          "output_type": "stream",
          "name": "stdout",
          "text": [
            "Epoch 1/20\n",
            "24/24 [==============================] - 0s 1ms/step - loss: 0.9120 - accuracy: 0.4833\n",
            "Epoch 2/20\n",
            "24/24 [==============================] - 0s 994us/step - loss: 0.8361 - accuracy: 0.6167\n",
            "Epoch 3/20\n",
            "24/24 [==============================] - 0s 1ms/step - loss: 0.7772 - accuracy: 0.8333\n",
            "Epoch 4/20\n",
            "24/24 [==============================] - 0s 972us/step - loss: 0.7256 - accuracy: 0.8417\n",
            "Epoch 5/20\n",
            "24/24 [==============================] - 0s 1ms/step - loss: 0.6773 - accuracy: 0.8417\n",
            "Epoch 6/20\n",
            "24/24 [==============================] - 0s 1ms/step - loss: 0.6327 - accuracy: 0.8500\n",
            "Epoch 7/20\n",
            "24/24 [==============================] - 0s 1ms/step - loss: 0.5896 - accuracy: 0.8500\n",
            "Epoch 8/20\n",
            "24/24 [==============================] - 0s 961us/step - loss: 0.5481 - accuracy: 0.8500\n",
            "Epoch 9/20\n",
            "24/24 [==============================] - 0s 972us/step - loss: 0.5081 - accuracy: 0.8500\n",
            "Epoch 10/20\n",
            "24/24 [==============================] - 0s 1ms/step - loss: 0.4725 - accuracy: 0.8500\n",
            "Epoch 11/20\n",
            "24/24 [==============================] - 0s 2ms/step - loss: 0.4401 - accuracy: 0.8583\n",
            "Epoch 12/20\n",
            "24/24 [==============================] - 0s 1ms/step - loss: 0.4104 - accuracy: 0.8500\n",
            "Epoch 13/20\n",
            "24/24 [==============================] - 0s 1ms/step - loss: 0.3824 - accuracy: 0.8583\n",
            "Epoch 14/20\n",
            "24/24 [==============================] - 0s 1ms/step - loss: 0.3590 - accuracy: 0.8667\n",
            "Epoch 15/20\n",
            "24/24 [==============================] - 0s 1ms/step - loss: 0.3401 - accuracy: 0.8667\n",
            "Epoch 16/20\n",
            "24/24 [==============================] - 0s 1ms/step - loss: 0.3225 - accuracy: 0.8583\n",
            "Epoch 17/20\n",
            "24/24 [==============================] - 0s 1ms/step - loss: 0.3084 - accuracy: 0.8750\n",
            "Epoch 18/20\n",
            "24/24 [==============================] - 0s 1ms/step - loss: 0.2959 - accuracy: 0.8750\n",
            "Epoch 19/20\n",
            "24/24 [==============================] - 0s 1ms/step - loss: 0.2841 - accuracy: 0.9000\n",
            "Epoch 20/20\n",
            "24/24 [==============================] - 0s 1ms/step - loss: 0.2745 - accuracy: 0.8917\n"
          ]
        }
      ]
    },
    {
      "cell_type": "code",
      "source": [
        "y_pred = model.predict(x_test)\n",
        "#y_pred = (y_pred > 5)"
      ],
      "metadata": {
        "colab": {
          "base_uri": "https://localhost:8080/"
        },
        "id": "YwQPy6VzNX7W",
        "outputId": "8bb888e6-b494-4966-d6c0-3a5aea087e66"
      },
      "execution_count": 169,
      "outputs": [
        {
          "output_type": "stream",
          "name": "stdout",
          "text": [
            "1/1 [==============================] - 0s 38ms/step\n"
          ]
        }
      ]
    },
    {
      "cell_type": "code",
      "source": [
        "from sklearn.metrics import confusion_matrix, accuracy_score\n",
        "import numpy as np\n",
        "y_test_class = np.argmax(y_test, axis=1)\n",
        "y_pred_class = np.argmax(y_pred, axis=1)\n",
        "cm = confusion_matrix(y_test_class, y_pred_class)\n",
        "accuracy_score(y_test_class, y_pred_class)"
      ],
      "metadata": {
        "colab": {
          "base_uri": "https://localhost:8080/"
        },
        "id": "VdcRho5lPqes",
        "outputId": "2d9a7366-d81a-48d6-d158-356c4431c6d2"
      },
      "execution_count": 170,
      "outputs": [
        {
          "output_type": "execute_result",
          "data": {
            "text/plain": [
              "0.8333333333333334"
            ]
          },
          "metadata": {},
          "execution_count": 170
        }
      ]
    },
    {
      "cell_type": "code",
      "source": [
        "import matplotlib.pyplot as plt\n",
        "plt.plot(output.history['accuracy'])\n",
        "plt.plot(output.history['loss'])\n",
        "plt.show()"
      ],
      "metadata": {
        "colab": {
          "base_uri": "https://localhost:8080/",
          "height": 430
        },
        "id": "9GYu3nuIQBRx",
        "outputId": "ea969197-81bd-4731-fb8e-ec276e6b9043"
      },
      "execution_count": 171,
      "outputs": [
        {
          "output_type": "display_data",
          "data": {
            "text/plain": [
              "<Figure size 640x480 with 1 Axes>"
            ],
            "image/png": "[encoded data removed]"
          },
          "metadata": {}
        }
      ]
    },
    {
      "cell_type": "code",
      "source": [],
      "metadata": {
        "id": "wee78xxjR1d9"
      },
      "execution_count": 99,
      "outputs": []
    }
  ]
}