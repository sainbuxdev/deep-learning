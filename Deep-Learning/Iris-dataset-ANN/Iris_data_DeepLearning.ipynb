{
  "nbformat": 4,
  "nbformat_minor": 0,
  "metadata": {
    "colab": {
      "provenance": []
    },
    "kernelspec": {
      "name": "python3",
      "display_name": "Python 3"
    },
    "language_info": {
      "name": "python"
    }
  },
  "cells": [
    {
      "cell_type": "code",
      "execution_count": 193,
      "metadata": {
        "id": "1IfL2T-oB_5B"
      },
      "outputs": [],
      "source": [
        "import pandas as pd\n",
        "data = pd.read_csv(\"iris.data\", delimiter=',', header=None)"
      ]
    },
    {
      "cell_type": "code",
      "source": [
        "y = data[4]\n",
        "x = data.drop(columns=[4])"
      ],
      "metadata": {
        "id": "aDcYIWDeDPzs"
      },
      "execution_count": 195,
      "outputs": []
    },
    {
      "cell_type": "code",
      "source": [
        "from sklearn.preprocessing import LabelEncoder\n",
        "labelencoder = LabelEncoder()\n",
        "y1 = labelencoder.fit_transform(y)\n",
        "Y = pd.get_dummies(y1).values"
      ],
      "metadata": {
        "id": "jlPy0jglETmQ"
      },
      "execution_count": 196,
      "outputs": []
    },
    {
      "cell_type": "code",
      "source": [
        "from sklearn.model_selection import train_test_split\n",
        "x_train, x_test, y_train, y_test = train_test_split(x , Y , test_size = 0.2 , random_state = 0)"
      ],
      "metadata": {
        "id": "hMHWYD1dFKdV"
      },
      "execution_count": 197,
      "outputs": []
    },
    {
      "cell_type": "code",
      "source": [],
      "metadata": {
        "id": "aW0iBFrsN_kb"
      },
      "execution_count": 197,
      "outputs": []
    },
    {
      "cell_type": "code",
      "source": [
        "import keras\n",
        "from keras.models import Sequential\n",
        "from keras.layers import Dense"
      ],
      "metadata": {
        "id": "HflNKpwSKuO1"
      },
      "execution_count": 198,
      "outputs": []
    },
    {
      "cell_type": "code",
      "source": [
        "model = Sequential()\n",
        "\n",
        "model.add(Dense(8, input_shape = (4,), activation='relu'))\n",
        "model.add(Dense(8, activation='relu' ))\n",
        "model.add(Dense(3,  activation='softmax'))\n",
        "model.compile(optimizer='rmsprop', loss='categorical_crossentropy', metrics=['accuracy'])"
      ],
      "metadata": {
        "id": "f_bkaF8qK2Cw"
      },
      "execution_count": 200,
      "outputs": []
    },
    {
      "cell_type": "code",
      "source": [
        "output = model.fit(x_train, y_train, batch_size = 5, epochs=30)"
      ],
      "metadata": {
        "colab": {
          "base_uri": "https://localhost:8080/"
        },
        "id": "MX6KL_54Lnnq",
        "outputId": "6ce04e76-ac81-4a5c-9db7-c7ab93221ee5"
      },
      "execution_count": 201,
      "outputs": [
        {
          "output_type": "stream",
          "name": "stdout",
          "text": [
            "Epoch 1/30\n",
            "24/24 [==============================] - 1s 2ms/step - loss: 1.8175 - accuracy: 0.3083\n",
            "Epoch 2/30\n",
            "24/24 [==============================] - 0s 1ms/step - loss: 1.2614 - accuracy: 0.3083\n",
            "Epoch 3/30\n",
            "24/24 [==============================] - 0s 1ms/step - loss: 0.9735 - accuracy: 0.3417\n",
            "Epoch 4/30\n",
            "24/24 [==============================] - 0s 1ms/step - loss: 0.8335 - accuracy: 0.5083\n",
            "Epoch 5/30\n",
            "24/24 [==============================] - 0s 1ms/step - loss: 0.7419 - accuracy: 0.8083\n",
            "Epoch 6/30\n",
            "24/24 [==============================] - 0s 2ms/step - loss: 0.6841 - accuracy: 0.8083\n",
            "Epoch 7/30\n",
            "24/24 [==============================] - 0s 2ms/step - loss: 0.6410 - accuracy: 0.7083\n",
            "Epoch 8/30\n",
            "24/24 [==============================] - 0s 2ms/step - loss: 0.6084 - accuracy: 0.7167\n",
            "Epoch 9/30\n",
            "24/24 [==============================] - 0s 2ms/step - loss: 0.5787 - accuracy: 0.8000\n",
            "Epoch 10/30\n",
            "24/24 [==============================] - 0s 2ms/step - loss: 0.5516 - accuracy: 0.7583\n",
            "Epoch 11/30\n",
            "24/24 [==============================] - 0s 2ms/step - loss: 0.5245 - accuracy: 0.7667\n",
            "Epoch 12/30\n",
            "24/24 [==============================] - 0s 1ms/step - loss: 0.5037 - accuracy: 0.8333\n",
            "Epoch 13/30\n",
            "24/24 [==============================] - 0s 2ms/step - loss: 0.4833 - accuracy: 0.8500\n",
            "Epoch 14/30\n",
            "24/24 [==============================] - 0s 2ms/step - loss: 0.4644 - accuracy: 0.8333\n",
            "Epoch 15/30\n",
            "24/24 [==============================] - 0s 2ms/step - loss: 0.4458 - accuracy: 0.8500\n",
            "Epoch 16/30\n",
            "24/24 [==============================] - 0s 2ms/step - loss: 0.4277 - accuracy: 0.8583\n",
            "Epoch 17/30\n",
            "24/24 [==============================] - 0s 2ms/step - loss: 0.4165 - accuracy: 0.8917\n",
            "Epoch 18/30\n",
            "24/24 [==============================] - 0s 2ms/step - loss: 0.3996 - accuracy: 0.8750\n",
            "Epoch 19/30\n",
            "24/24 [==============================] - 0s 2ms/step - loss: 0.3871 - accuracy: 0.9167\n",
            "Epoch 20/30\n",
            "24/24 [==============================] - 0s 2ms/step - loss: 0.3718 - accuracy: 0.9250\n",
            "Epoch 21/30\n",
            "24/24 [==============================] - 0s 1ms/step - loss: 0.3608 - accuracy: 0.9000\n",
            "Epoch 22/30\n",
            "24/24 [==============================] - 0s 1ms/step - loss: 0.3473 - accuracy: 0.9250\n",
            "Epoch 23/30\n",
            "24/24 [==============================] - 0s 1ms/step - loss: 0.3349 - accuracy: 0.9167\n",
            "Epoch 24/30\n",
            "24/24 [==============================] - 0s 1ms/step - loss: 0.3290 - accuracy: 0.9333\n",
            "Epoch 25/30\n",
            "24/24 [==============================] - 0s 1ms/step - loss: 0.3192 - accuracy: 0.9417\n",
            "Epoch 26/30\n",
            "24/24 [==============================] - 0s 973us/step - loss: 0.3085 - accuracy: 0.9250\n",
            "Epoch 27/30\n",
            "24/24 [==============================] - 0s 1ms/step - loss: 0.2996 - accuracy: 0.9417\n",
            "Epoch 28/30\n",
            "24/24 [==============================] - 0s 951us/step - loss: 0.2900 - accuracy: 0.9250\n",
            "Epoch 29/30\n",
            "24/24 [==============================] - 0s 1ms/step - loss: 0.2835 - accuracy: 0.9417\n",
            "Epoch 30/30\n",
            "24/24 [==============================] - 0s 1ms/step - loss: 0.2754 - accuracy: 0.9667\n"
          ]
        }
      ]
    },
    {
      "cell_type": "code",
      "source": [
        "y_pred = model.predict(x_test)\n",
        "#y_pred = (y_pred > 5)"
      ],
      "metadata": {
        "colab": {
          "base_uri": "https://localhost:8080/"
        },
        "id": "YwQPy6VzNX7W",
        "outputId": "212728a6-97de-4bbc-e2f6-006730dd51f9"
      },
      "execution_count": 202,
      "outputs": [
        {
          "output_type": "stream",
          "name": "stdout",
          "text": [
            "1/1 [==============================] - 0s 41ms/step\n"
          ]
        }
      ]
    },
    {
      "cell_type": "code",
      "source": [
        "from sklearn.metrics import confusion_matrix, accuracy_score\n",
        "import numpy as np\n",
        "y_test_class = np.argmax(y_test, axis=1)\n",
        "y_pred_class = np.argmax(y_pred, axis=1)\n",
        "cm = confusion_matrix(y_test_class, y_pred_class)\n",
        "accuracy_score(y_test_class, y_pred_class)"
      ],
      "metadata": {
        "colab": {
          "base_uri": "https://localhost:8080/"
        },
        "id": "VdcRho5lPqes",
        "outputId": "fa4b9fc2-d659-47a2-850e-6a3cb4a55bab"
      },
      "execution_count": 203,
      "outputs": [
        {
          "output_type": "execute_result",
          "data": {
            "text/plain": [
              "0.9666666666666667"
            ]
          },
          "metadata": {},
          "execution_count": 203
        }
      ]
    },
    {
      "cell_type": "code",
      "source": [
        "import matplotlib.pyplot as plt\n",
        "plt.plot(output.history['accuracy'])\n",
        "plt.plot(output.history['loss'])\n",
        "plt.show()"
      ],
      "metadata": {
        "colab": {
          "base_uri": "https://localhost:8080/",
          "height": 430
        },
        "id": "9GYu3nuIQBRx",
        "outputId": "2ebdf50d-034a-4d63-ae44-917e243e17b0"
      },
      "execution_count": 204,
      "outputs": [
        {
          "output_type": "display_data",
          "data": {
            "text/plain": [
              "<Figure size 640x480 with 1 Axes>"
            ],
            "image/png": "[encoded data removed]"
          },
          "metadata": {}
        }
      ]
    },
    {
      "cell_type": "code",
      "source": [],
      "metadata": {
        "id": "wee78xxjR1d9"
      },
      "execution_count": 99,
      "outputs": []
    }
  ]
}