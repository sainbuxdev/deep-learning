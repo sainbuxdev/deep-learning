{
 "nbformat": 4,
 "nbformat_minor": 0,
 "metadata": {
  "colab": {
   "provenance": []
  },
  "kernelspec": {
   "name": "python3",
   "display_name": "Python 3"
  },
  "language_info": {
   "name": "python"
  }
 },
 "cells": [
  {
   "cell_type": "code",
   "execution_count": null,
   "metadata": {
    "colab": {
     "base_uri": "https://localhost:8080/",
     "height": 444
    },
    "id": "KapDy0KqzHD4",
    "outputId": "962e2c9f-de66-4b6b-ca11-e8efe18de5ff",
    "is_executing": true
   },
   "outputs": [],
   "source": [
    "import pandas as pd\n",
    "data = pd.read_csv(\"wdbc.data\", delimiter=',', header=None)\n",
    "data"
   ]
  },
  {
   "cell_type": "code",
   "source": [
    "y = data[1]\n",
    "x = data.drop(columns=[1])\n"
   ],
   "metadata": {
    "id": "3OFfiJy1z34n"
   },
   "execution_count": 9,
   "outputs": []
  },
  {
   "cell_type": "code",
   "source": [
    "import sklearn\n",
    "from sklearn.model_selection import train_test_split\n",
    "from sklearn.preprocessing import LabelEncoder"
   ],
   "metadata": {
    "id": "54I2HyC70KQb"
   },
   "execution_count": 10,
   "outputs": []
  },
  {
   "cell_type": "code",
   "source": [
    "labelencoder = LabelEncoder()\n",
    "y = labelencoder.fit_transform(y)\n"
   ],
   "metadata": {
    "id": "K8djQLnt07rw"
   },
   "execution_count": 12,
   "outputs": []
  },
  {
   "cell_type": "code",
   "source": [
    "train_x , test_x, train_y, test_y = train_test_split(x, y, test_size=0.8, random_state = 0)"
   ],
   "metadata": {
    "id": "Mu9e0zjD1Gll"
   },
   "execution_count": 65,
   "outputs": []
  },
  {
   "cell_type": "code",
   "source": [
    "from sklearn.preprocessing import StandardScaler\n",
    "sc = StandardScaler()\n",
    "train_x = sc.fit_transform(train_x)\n",
    "test_x = sc.fit_transform(test_x)\n"
   ],
   "metadata": {
    "id": "dSALPnn61hoR"
   },
   "execution_count": 66,
   "outputs": []
  },
  {
   "cell_type": "code",
   "source": [
    "import keras\n",
    "from keras.models import Sequential\n",
    "from keras.layers import Dense"
   ],
   "metadata": {
    "id": "NKU-7N6G3nwx"
   },
   "execution_count": 67,
   "outputs": []
  },
  {
   "cell_type": "code",
   "source": [
    "model = Sequential()\n"
   ],
   "metadata": {
    "id": "cZCYB6UE34vg"
   },
   "execution_count": 68,
   "outputs": []
  },
  {
   "cell_type": "code",
   "source": [
    "model.add(Dense(16, activation='relu', input_dim = 31))\n",
    "model.add(Dense(16,activation='relu'))\n",
    "model.add(Dense(1, activation='sigmoid',input_dim=31))\n",
    "model.compile(optimizer='Adam', loss='binary_crossentropy', metrics=['accuracy'])"
   ],
   "metadata": {
    "id": "UBTWpXFL39uo"
   },
   "execution_count": 69,
   "outputs": []
  },
  {
   "cell_type": "code",
   "source": [],
   "metadata": {
    "id": "xs-vCYAP7rxu"
   },
   "execution_count": 69,
   "outputs": []
  },
  {
   "cell_type": "code",
   "source": [
    "output = model.fit(train_x, train_y, batch_size=32, epochs=10)"
   ],
   "metadata": {
    "colab": {
     "base_uri": "https://localhost:8080/"
    },
    "id": "hOXt1vi94Q6c",
    "outputId": "046e2410-6249-4685-f310-610eb10db410"
   },
   "execution_count": 70,
   "outputs": [
    {
     "output_type": "stream",
     "name": "stdout",
     "text": [
      "Epoch 1/10\n",
      "4/4 [==============================] - 1s 5ms/step - loss: 0.7386 - accuracy: 0.6106\n",
      "Epoch 2/10\n",
      "4/4 [==============================] - 0s 5ms/step - loss: 0.6814 - accuracy: 0.6637\n",
      "Epoch 3/10\n",
      "4/4 [==============================] - 0s 4ms/step - loss: 0.6322 - accuracy: 0.7345\n",
      "Epoch 4/10\n",
      "4/4 [==============================] - 0s 5ms/step - loss: 0.5851 - accuracy: 0.7611\n",
      "Epoch 5/10\n",
      "4/4 [==============================] - 0s 5ms/step - loss: 0.5445 - accuracy: 0.8053\n",
      "Epoch 6/10\n",
      "4/4 [==============================] - 0s 5ms/step - loss: 0.5075 - accuracy: 0.8319\n",
      "Epoch 7/10\n",
      "4/4 [==============================] - 0s 4ms/step - loss: 0.4748 - accuracy: 0.8407\n",
      "Epoch 8/10\n",
      "4/4 [==============================] - 0s 8ms/step - loss: 0.4425 - accuracy: 0.8496\n",
      "Epoch 9/10\n",
      "4/4 [==============================] - 0s 5ms/step - loss: 0.4130 - accuracy: 0.8584\n",
      "Epoch 10/10\n",
      "4/4 [==============================] - 0s 5ms/step - loss: 0.3862 - accuracy: 0.8850\n"
     ]
    }
   ]
  },
  {
   "cell_type": "code",
   "source": [
    "y_pred = model.predict(test_x)\n",
    "y_pred = (y_pred > 0.5)"
   ],
   "metadata": {
    "colab": {
     "base_uri": "https://localhost:8080/"
    },
    "id": "7HvsZzIf41Lr",
    "outputId": "da5c4528-9940-44c0-83f7-76bda0a0fb2d"
   },
   "execution_count": 71,
   "outputs": [
    {
     "output_type": "stream",
     "name": "stdout",
     "text": [
      "15/15 [==============================] - 0s 2ms/step\n"
     ]
    }
   ]
  },
  {
   "cell_type": "code",
   "source": [
    "from sklearn.metrics import confusion_matrix, accuracy_score\n",
    "cm = confusion_matrix(test_y, y_pred)\n",
    "accuracy_score(test_y,y_pred)"
   ],
   "metadata": {
    "colab": {
     "base_uri": "https://localhost:8080/"
    },
    "id": "Yw5JkQRy6cUW",
    "outputId": "c42dfc2f-216b-49f6-eb07-bd80d36cde33"
   },
   "execution_count": 72,
   "outputs": [
    {
     "output_type": "execute_result",
     "data": {
      "text/plain": [
       "0.9035087719298246"
      ]
     },
     "metadata": {},
     "execution_count": 72
    }
   ]
  },
  {
   "cell_type": "code",
   "source": [
    "import matplotlib.pyplot as plt"
   ],
   "metadata": {
    "id": "E_D_yC4w6v1J"
   },
   "execution_count": 73,
   "outputs": []
  },
  {
   "cell_type": "code",
   "source": [
    "plt.plot(output.history['accuracy'])\n",
    "plt.plot(output.history['loss'])\n",
    "plt.show()\n"
   ],
   "metadata": {
    "colab": {
     "base_uri": "https://localhost:8080/",
     "height": 430
    },
    "id": "vMOS9_m_8Lmg",
    "outputId": "709297c4-bd3e-4f94-ee47-923df5fe221d"
   },
   "execution_count": 75,
   "outputs": [
    {
     "output_type": "display_data",
     "data": {
      "text/plain": [
       "<Figure size 640x480 with 1 Axes>"
      ],
      "image/png": "[encoded data removed]"
     },
     "metadata": {}
    }
   ]
  },
  {
   "cell_type": "code",
   "source": [],
   "metadata": {
    "id": "YpJgNyrx8Ude"
   },
   "execution_count": null,
   "outputs": []
  }
 ]
}
